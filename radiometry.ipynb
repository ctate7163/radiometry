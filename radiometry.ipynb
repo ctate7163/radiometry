{
  "nbformat": 4,
  "nbformat_minor": 0,
  "metadata": {
    "colab": {
      "provenance": [],
      "authorship_tag": "ABX9TyMIkh24fHt68K73+BYHMUGL",
      "include_colab_link": true
    },
    "kernelspec": {
      "name": "python3",
      "display_name": "Python 3"
    },
    "language_info": {
      "name": "python"
    }
  },
  "cells": [
    {
      "cell_type": "markdown",
      "metadata": {
        "id": "view-in-github",
        "colab_type": "text"
      },
      "source": [
        "<a href=\"https://colab.research.google.com/github/ctate7163/radiometry/blob/main/radiometry.ipynb\" target=\"_parent\"><img src=\"https://colab.research.google.com/assets/colab-badge.svg\" alt=\"Open In Colab\"/></a>"
      ]
    },
    {
      "cell_type": "markdown",
      "source": [
        "## Radiometry for exposure time calculation\n",
        "\n",
        "This notebook estimates the camera design requirements\n",
        "\n",
        "All quantities are in SI units unless stated otherwise.\n",
        "\n",
        "Symbols used below.\n",
        "\n",
        "| Symbol | Name | SI units | Note |\n",
        "| :-- | ------ | :----- | ------ |\n",
        "| Q$_e$ | radiant energy | J |  |\n",
        "| 𝛷$_e$ | radiant flux | W |  |\n",
        "| I$_e$$_Ω$ | radiant intensity | W/sr |  |\n",
        "| L$_e$$_Ω$ | radiance | W/sr/m$^2$ |  |\n",
        "| E$_e$ | irradiance | W/m$^2$ | also flux density |\n",
        "| M$_e$ | exitance | W/m$^2$ | also emittance |\n",
        "| Ω | solid angle | sr |  |\n",
        "| λ | wavelength | meters |  |\n",
        "| α | albedo |  - | also reflectance |\n",
        "| T | transmission | - |  |\n",
        "| S | signal | e$^-$ | detector signal in electrons |\n",
        "| t | exposure time | sec |  |\n",
        "| r | radius | m |  |\n",
        "| d | distance | m |  |\n",
        "| l | length | m |  |\n",
        "| A | area | m$^2$ |  |\n",
        "| QE | quantum efficency | e$^-$/photon |  |\n",
        "| i | incidence | rad |  |\n",
        "|  |  |  |  |\n",
        "\n",
        "See Wikipedia [here](https://en.wikipedia.org/wiki/Radiometry) for notation conventions\n",
        "\n",
        "Solar spectrum is the E-490-00 standard downloaded from [here](https://www.nrel.gov/grid/solar-resource/spectra-astm-e490.html)"
      ],
      "metadata": {
        "id": "lPygTqVq5qcX"
      }
    },
    {
      "cell_type": "code",
      "execution_count": 3,
      "metadata": {
        "id": "fPF2PIRA5mFE"
      },
      "outputs": [],
      "source": [
        "import numpy as np\n",
        "import matplotlib.pyplot as plt"
      ]
    },
    {
      "cell_type": "code",
      "source": [
        "!pip install PySpectral"
      ],
      "metadata": {
        "id": "oET0prNQRx6b",
        "outputId": "0b1ae516-9296-41f2-8ba1-0ed971c5a937",
        "colab": {
          "base_uri": "https://localhost:8080/"
        }
      },
      "execution_count": 26,
      "outputs": [
        {
          "output_type": "stream",
          "name": "stdout",
          "text": [
            "Collecting PySpectral\n",
            "  Downloading pyspectral-0.13.5.tar.gz (3.9 MB)\n",
            "\u001b[2K     \u001b[90m━━━━━━━━━━━━━━━━━━━━━━━━━━━━━━━━━━━━━━━━\u001b[0m \u001b[32m3.9/3.9 MB\u001b[0m \u001b[31m31.5 MB/s\u001b[0m eta \u001b[36m0:00:00\u001b[0m\n",
            "\u001b[?25h  Installing build dependencies ... \u001b[?25l\u001b[?25hdone\n",
            "  Getting requirements to build wheel ... \u001b[?25l\u001b[?25hdone\n",
            "  Preparing metadata (pyproject.toml) ... \u001b[?25l\u001b[?25hdone\n",
            "Requirement already satisfied: numpy in /usr/local/lib/python3.11/dist-packages (from PySpectral) (2.0.2)\n",
            "Requirement already satisfied: scipy>=1.6.0 in /usr/local/lib/python3.11/dist-packages (from PySpectral) (1.14.1)\n",
            "Collecting python-geotiepoints>=1.1.1 (from PySpectral)\n",
            "  Downloading python_geotiepoints-1.7.5-cp311-cp311-manylinux_2_17_x86_64.manylinux2014_x86_64.whl.metadata (1.8 kB)\n",
            "Requirement already satisfied: h5py>=2.5 in /usr/local/lib/python3.11/dist-packages (from PySpectral) (3.12.1)\n",
            "Requirement already satisfied: requests in /usr/local/lib/python3.11/dist-packages (from PySpectral) (2.32.3)\n",
            "Requirement already satisfied: pyyaml in /usr/local/lib/python3.11/dist-packages (from PySpectral) (6.0.2)\n",
            "Requirement already satisfied: platformdirs in /usr/local/lib/python3.11/dist-packages (from PySpectral) (4.3.6)\n",
            "Requirement already satisfied: pandas in /usr/local/lib/python3.11/dist-packages (from python-geotiepoints>=1.1.1->PySpectral) (2.2.2)\n",
            "Requirement already satisfied: charset-normalizer<4,>=2 in /usr/local/lib/python3.11/dist-packages (from requests->PySpectral) (3.4.1)\n",
            "Requirement already satisfied: idna<4,>=2.5 in /usr/local/lib/python3.11/dist-packages (from requests->PySpectral) (3.10)\n",
            "Requirement already satisfied: urllib3<3,>=1.21.1 in /usr/local/lib/python3.11/dist-packages (from requests->PySpectral) (2.3.0)\n",
            "Requirement already satisfied: certifi>=2017.4.17 in /usr/local/lib/python3.11/dist-packages (from requests->PySpectral) (2025.1.31)\n",
            "Requirement already satisfied: python-dateutil>=2.8.2 in /usr/local/lib/python3.11/dist-packages (from pandas->python-geotiepoints>=1.1.1->PySpectral) (2.8.2)\n",
            "Requirement already satisfied: pytz>=2020.1 in /usr/local/lib/python3.11/dist-packages (from pandas->python-geotiepoints>=1.1.1->PySpectral) (2025.1)\n",
            "Requirement already satisfied: tzdata>=2022.7 in /usr/local/lib/python3.11/dist-packages (from pandas->python-geotiepoints>=1.1.1->PySpectral) (2025.1)\n",
            "Requirement already satisfied: six>=1.5 in /usr/local/lib/python3.11/dist-packages (from python-dateutil>=2.8.2->pandas->python-geotiepoints>=1.1.1->PySpectral) (1.17.0)\n",
            "Downloading python_geotiepoints-1.7.5-cp311-cp311-manylinux_2_17_x86_64.manylinux2014_x86_64.whl (2.8 MB)\n",
            "\u001b[2K   \u001b[90m━━━━━━━━━━━━━━━━━━━━━━━━━━━━━━━━━━━━━━━━\u001b[0m \u001b[32m2.8/2.8 MB\u001b[0m \u001b[31m51.5 MB/s\u001b[0m eta \u001b[36m0:00:00\u001b[0m\n",
            "\u001b[?25hBuilding wheels for collected packages: PySpectral\n",
            "  Building wheel for PySpectral (pyproject.toml) ... \u001b[?25l\u001b[?25hdone\n",
            "  Created wheel for PySpectral: filename=pyspectral-0.13.5-py2.py3-none-any.whl size=702046 sha256=8251bd1955d5e1957f998719826d10ee6a570d98c10c53a840217f6cfb3f1f23\n",
            "  Stored in directory: /root/.cache/pip/wheels/f7/ab/97/aaee93364f115f1dbed177408b70128ea4af99d8c04e9a3600\n",
            "Successfully built PySpectral\n",
            "Installing collected packages: python-geotiepoints, PySpectral\n",
            "Successfully installed PySpectral-0.13.5 python-geotiepoints-1.7.5\n"
          ]
        }
      ]
    },
    {
      "cell_type": "code",
      "source": [
        "from pyspectral.solar import SolarIrradianceSpectrum\n",
        "solar_irr = SolarIrradianceSpectrum(dlambda=(0.4,1))\n",
        "\n",
        "wavelength = solar_irr.wavelength\n",
        "irradiance = solar_irr.irradiance\n",
        "\n",
        "plt.plot(wavelength,irradiance)\n",
        "plt.xlabel('Wavelength ($\\mu$m)')\n",
        "plt.ylabel('Spectal Irradiance (W/m$^2/\\mu$m)')\n",
        "plt.xlim([0,2])\n",
        "plt.show()\n",
        "\n",
        "print(wavelength.shape)\n",
        "wavelength"
      ],
      "metadata": {
        "id": "ew4A-uimRj8-",
        "outputId": "d5ebdf0d-c051-4441-c841-0ab2e12b507e",
        "colab": {
          "base_uri": "https://localhost:8080/",
          "height": 505
        }
      },
      "execution_count": 65,
      "outputs": [
        {
          "output_type": "display_data",
          "data": {
            "text/plain": [
              "<Figure size 640x480 with 1 Axes>"
            ],
            "image/png": "[encoded data removed]"
          },
          "metadata": {}
        },
        {
          "output_type": "stream",
          "name": "stdout",
          "text": [
            "(1697,)\n"
          ]
        },
        {
          "output_type": "execute_result",
          "data": {
            "text/plain": [
              "array([1.195e-01, 1.205e-01, 1.215e-01, ..., 3.000e+02, 4.000e+02,\n",
              "       1.000e+03])"
            ]
          },
          "metadata": {},
          "execution_count": 65
        }
      ]
    },
    {
      "cell_type": "code",
      "source": [
        "def get_solar_irradiance_from_e490(file_path):\n",
        "    \"\"\"\n",
        "    Reads an ASTM E-490 Excel file containing the solar spectrum, re-bins the data\n",
        "    into 1 nm bins, and returns the solar spectral irradiance at 1 AU in SI units.\n",
        "\n",
        "    Parameters\n",
        "    ----------\n",
        "    file_path : str\n",
        "        Path to the Excel file (e490_00a_amo.xls). The file is expected to contain at least\n",
        "        two columns: one for wavelength (in nm) and one for irradiance (in W/m^2/nm).\n",
        "\n",
        "    Returns\n",
        "    -------\n",
        "    solar_table : astropy.table.Table\n",
        "        A table with columns 'wavelength' (in nm) and 'irradiance' (in W/m^2/nm),\n",
        "        re-sampled at 1 nm intervals.\n",
        "    \"\"\"\n",
        "    # Read the Excel file. (For .xls files, ensure you have xlrd installed.)\n",
        "    df = pd.read_excel(file_path, engine='xlrd')\n",
        "\n",
        "    # Adjust these column names if your file uses different names.\n",
        "    wl = df['Wavelength'].values  # wavelengths in nm\n",
        "    irr = df['Irradiance'].values  # irradiance values in W/m^2/nm\n",
        "\n",
        "    # Attach units.\n",
        "    wl = wl * u.nm\n",
        "    irr = irr * (u.W / (u.m**2 * u.nm))\n",
        "\n",
        "    # Create a new wavelength grid with 1 nm bins.\n",
        "    new_wl_min = np.ceil(np.min(wl.value))\n",
        "    new_wl_max = np.floor(np.max(wl.value))\n",
        "    new_wavelength = np.arange(new_wl_min, new_wl_max + 1, 1) * u.nm\n",
        "\n",
        "    # Interpolate the irradiance onto the new wavelength grid.\n",
        "    new_irradiance = np.interp(new_wavelength.value, wl.value, irr.value) * irr.unit\n",
        "\n",
        "    # Build an Astropy Table to hold the binned spectrum.\n",
        "    solar_table = Table([new_wavelength, new_irradiance], names=('wavelength', 'irradiance'))\n",
        "\n",
        "    return solar_table\n",
        "\n",
        "  file_path = '/data/e490_00a_amo.xls'\n",
        "  solar_spectrum = get_solar_irradiance_from_e490(file_path)\n",
        "  print(solar_spectrum)"
      ],
      "metadata": {
        "id": "g7lfsfeJSaT2",
        "outputId": "235492d7-772c-403f-8e11-9894a82c85e8",
        "colab": {
          "base_uri": "https://localhost:8080/"
        }
      },
      "execution_count": 51,
      "outputs": [
        {
          "output_type": "stream",
          "name": "stdout",
          "text": [
            "Help on class SolarIrradianceSpectrum in module pyspectral.solar:\n",
            "\n",
            "class SolarIrradianceSpectrum(builtins.object)\n",
            " |  SolarIrradianceSpectrum(filename=PosixPath('/usr/local/lib/python3.11/dist-packages/pyspectral/data/e490_00a.dat'), **options)\n",
            " |  \n",
            " |  Total Top of Atmosphere (TOA) Solar Irradiance Spectrum.\n",
            " |  \n",
            " |  Wavelength is in units of microns (10^-6 m).\n",
            " |  The spectral Irradiance in the file TOTAL_IRRADIANCE_SPECTRUM_2000ASTM is\n",
            " |  in units of W/m^2/micron\n",
            " |  \n",
            " |  Methods defined here:\n",
            " |  \n",
            " |  __init__(self, filename=PosixPath('/usr/local/lib/python3.11/dist-packages/pyspectral/data/e490_00a.dat'), **options)\n",
            " |      Initialize the top of atmosphere solar irradiance spectrum object from file.\n",
            " |      \n",
            " |      By default, this will use the following spectra:\n",
            " |      2000 ASTM Standard Extraterrestrial Spectrum Reference E-490-00\n",
            " |      \n",
            " |      To use a different spectra, specify the `filename` when initialising the class.\n",
            " |      \n",
            " |      Input:\n",
            " |      filename: Filename of the solar irradiance spectrum (default: 2000 ASTM)\n",
            " |      options:\n",
            " |        dlambda:\n",
            " |          Delta wavelength: the step in wavelength defining the resolution on\n",
            " |          which to integrate/convolute.\n",
            " |          Default is 0.005 if 'wavespace' is 'wavelength' and 2.0 if 'wavenumber'.\n",
            " |        wavespace:\n",
            " |          It is possible to specify if the solar irradiance spectrum should\n",
            " |          be given in terms of wavelength (default) or in terms of\n",
            " |          wavenumber. If the latter is desired 'wavespace' should be set to\n",
            " |          'wavenumber'.\n",
            " |  \n",
            " |  convert2wavenumber(self)\n",
            " |      Convert from wavelengths to wavenumber.\n",
            " |      \n",
            " |      Units:\n",
            " |        Wavelength: micro meters (1e-6 m)\n",
            " |        Wavenumber: cm-1\n",
            " |  \n",
            " |  inband_solarflux(self, rsr, scale=1.0, **options)\n",
            " |      Get the in band solar flux.\n",
            " |      \n",
            " |      Derive the inband solar flux for a given instrument relative\n",
            " |      spectral response valid for an earth-sun distance of one AU.\n",
            " |  \n",
            " |  inband_solarirradiance(self, rsr, scale=1.0, **options)\n",
            " |      Get the in band solar irradiance.\n",
            " |      \n",
            " |      Derive the inband solar irradiance for a given instrument relative\n",
            " |      spectral response valid for an earth-sun distance of one AU.\n",
            " |      \n",
            " |      (Same as the in band solar flux).\n",
            " |  \n",
            " |  interpolate(self, **options)\n",
            " |      Interpolate Irradiance to a specified evenly spaced resolution/grid.\n",
            " |      \n",
            " |      This is necessary to make integration and folding (with a channel\n",
            " |      relative spectral response) straightforward.\n",
            " |      \n",
            " |      dlambda = wavelength interval in microns\n",
            " |      start = Start of the wavelength interval (left/lower)\n",
            " |      end = End of the wavelength interval (right/upper end)\n",
            " |      options:\n",
            " |      dlambda: Delta wavelength used when interpolating/resampling\n",
            " |      ival_wavelength: Tuple. The start and end interval in wavelength\n",
            " |      space, defining where to integrate/convolute the spectral response\n",
            " |      curve on the spectral irradiance data.\n",
            " |  \n",
            " |  plot(self, plotname=None, **options)\n",
            " |      Plot the data.\n",
            " |  \n",
            " |  solar_constant(self)\n",
            " |      Calculate the solar constant.\n",
            " |  \n",
            " |  ----------------------------------------------------------------------\n",
            " |  Data descriptors defined here:\n",
            " |  \n",
            " |  __dict__\n",
            " |      dictionary for instance variables\n",
            " |  \n",
            " |  __weakref__\n",
            " |      list of weak references to the object\n",
            "\n"
          ]
        }
      ]
    },
    {
      "cell_type": "markdown",
      "source": [
        "# New Section"
      ],
      "metadata": {
        "id": "2SAQpyDpZg_6"
      }
    },
    {
      "cell_type": "code",
      "source": [
        "plt.plot(Sun.wave)"
      ],
      "metadata": {
        "id": "s4pKRL3oSaWq",
        "outputId": "75c97006-c1c1-4257-a10d-c67021aca6af",
        "colab": {
          "base_uri": "https://localhost:8080/",
          "height": 705
        }
      },
      "execution_count": 25,
      "outputs": [
        {
          "output_type": "error",
          "ename": "TypeError",
          "evalue": "float() argument must be a string or a real number, not 'property'",
          "traceback": [
            "\u001b[0;31m---------------------------------------------------------------------------\u001b[0m",
            "\u001b[0;31mTypeError\u001b[0m                                 Traceback (most recent call last)",
            "\u001b[0;32m<ipython-input-25-3d629e37760e>\u001b[0m in \u001b[0;36m<cell line: 0>\u001b[0;34m()\u001b[0m\n\u001b[0;32m----> 1\u001b[0;31m \u001b[0mplt\u001b[0m\u001b[0;34m.\u001b[0m\u001b[0mplot\u001b[0m\u001b[0;34m(\u001b[0m\u001b[0mSun\u001b[0m\u001b[0;34m.\u001b[0m\u001b[0mwave\u001b[0m\u001b[0;34m)\u001b[0m\u001b[0;34m\u001b[0m\u001b[0;34m\u001b[0m\u001b[0m\n\u001b[0m",
            "\u001b[0;32m/usr/local/lib/python3.11/dist-packages/matplotlib/pyplot.py\u001b[0m in \u001b[0;36mplot\u001b[0;34m(scalex, scaley, data, *args, **kwargs)\u001b[0m\n\u001b[1;32m   3827\u001b[0m     \u001b[0;34m**\u001b[0m\u001b[0mkwargs\u001b[0m\u001b[0;34m,\u001b[0m\u001b[0;34m\u001b[0m\u001b[0;34m\u001b[0m\u001b[0m\n\u001b[1;32m   3828\u001b[0m ) -> list[Line2D]:\n\u001b[0;32m-> 3829\u001b[0;31m     return gca().plot(\n\u001b[0m\u001b[1;32m   3830\u001b[0m         \u001b[0;34m*\u001b[0m\u001b[0margs\u001b[0m\u001b[0;34m,\u001b[0m\u001b[0;34m\u001b[0m\u001b[0;34m\u001b[0m\u001b[0m\n\u001b[1;32m   3831\u001b[0m         \u001b[0mscalex\u001b[0m\u001b[0;34m=\u001b[0m\u001b[0mscalex\u001b[0m\u001b[0;34m,\u001b[0m\u001b[0;34m\u001b[0m\u001b[0;34m\u001b[0m\u001b[0m\n",
            "\u001b[0;32m/usr/local/lib/python3.11/dist-packages/matplotlib/axes/_axes.py\u001b[0m in \u001b[0;36mplot\u001b[0;34m(self, scalex, scaley, data, *args, **kwargs)\u001b[0m\n\u001b[1;32m   1777\u001b[0m         \u001b[0mlines\u001b[0m \u001b[0;34m=\u001b[0m \u001b[0;34m[\u001b[0m\u001b[0;34m*\u001b[0m\u001b[0mself\u001b[0m\u001b[0;34m.\u001b[0m\u001b[0m_get_lines\u001b[0m\u001b[0;34m(\u001b[0m\u001b[0mself\u001b[0m\u001b[0;34m,\u001b[0m \u001b[0;34m*\u001b[0m\u001b[0margs\u001b[0m\u001b[0;34m,\u001b[0m \u001b[0mdata\u001b[0m\u001b[0;34m=\u001b[0m\u001b[0mdata\u001b[0m\u001b[0;34m,\u001b[0m \u001b[0;34m**\u001b[0m\u001b[0mkwargs\u001b[0m\u001b[0;34m)\u001b[0m\u001b[0;34m]\u001b[0m\u001b[0;34m\u001b[0m\u001b[0;34m\u001b[0m\u001b[0m\n\u001b[1;32m   1778\u001b[0m         \u001b[0;32mfor\u001b[0m \u001b[0mline\u001b[0m \u001b[0;32min\u001b[0m \u001b[0mlines\u001b[0m\u001b[0;34m:\u001b[0m\u001b[0;34m\u001b[0m\u001b[0;34m\u001b[0m\u001b[0m\n\u001b[0;32m-> 1779\u001b[0;31m             \u001b[0mself\u001b[0m\u001b[0;34m.\u001b[0m\u001b[0madd_line\u001b[0m\u001b[0;34m(\u001b[0m\u001b[0mline\u001b[0m\u001b[0;34m)\u001b[0m\u001b[0;34m\u001b[0m\u001b[0;34m\u001b[0m\u001b[0m\n\u001b[0m\u001b[1;32m   1780\u001b[0m         \u001b[0;32mif\u001b[0m \u001b[0mscalex\u001b[0m\u001b[0;34m:\u001b[0m\u001b[0;34m\u001b[0m\u001b[0;34m\u001b[0m\u001b[0m\n\u001b[1;32m   1781\u001b[0m             \u001b[0mself\u001b[0m\u001b[0;34m.\u001b[0m\u001b[0m_request_autoscale_view\u001b[0m\u001b[0;34m(\u001b[0m\u001b[0;34m\"x\"\u001b[0m\u001b[0;34m)\u001b[0m\u001b[0;34m\u001b[0m\u001b[0;34m\u001b[0m\u001b[0m\n",
            "\u001b[0;32m/usr/local/lib/python3.11/dist-packages/matplotlib/axes/_base.py\u001b[0m in \u001b[0;36madd_line\u001b[0;34m(self, line)\u001b[0m\n\u001b[1;32m   2369\u001b[0m             \u001b[0mline\u001b[0m\u001b[0;34m.\u001b[0m\u001b[0mset_clip_path\u001b[0m\u001b[0;34m(\u001b[0m\u001b[0mself\u001b[0m\u001b[0;34m.\u001b[0m\u001b[0mpatch\u001b[0m\u001b[0;34m)\u001b[0m\u001b[0;34m\u001b[0m\u001b[0;34m\u001b[0m\u001b[0m\n\u001b[1;32m   2370\u001b[0m \u001b[0;34m\u001b[0m\u001b[0m\n\u001b[0;32m-> 2371\u001b[0;31m         \u001b[0mself\u001b[0m\u001b[0;34m.\u001b[0m\u001b[0m_update_line_limits\u001b[0m\u001b[0;34m(\u001b[0m\u001b[0mline\u001b[0m\u001b[0;34m)\u001b[0m\u001b[0;34m\u001b[0m\u001b[0;34m\u001b[0m\u001b[0m\n\u001b[0m\u001b[1;32m   2372\u001b[0m         \u001b[0;32mif\u001b[0m \u001b[0;32mnot\u001b[0m \u001b[0mline\u001b[0m\u001b[0;34m.\u001b[0m\u001b[0mget_label\u001b[0m\u001b[0;34m(\u001b[0m\u001b[0;34m)\u001b[0m\u001b[0;34m:\u001b[0m\u001b[0;34m\u001b[0m\u001b[0;34m\u001b[0m\u001b[0m\n\u001b[1;32m   2373\u001b[0m             \u001b[0mline\u001b[0m\u001b[0;34m.\u001b[0m\u001b[0mset_label\u001b[0m\u001b[0;34m(\u001b[0m\u001b[0;34mf'_child{len(self._children)}'\u001b[0m\u001b[0;34m)\u001b[0m\u001b[0;34m\u001b[0m\u001b[0;34m\u001b[0m\u001b[0m\n",
            "\u001b[0;32m/usr/local/lib/python3.11/dist-packages/matplotlib/axes/_base.py\u001b[0m in \u001b[0;36m_update_line_limits\u001b[0;34m(self, line)\u001b[0m\n\u001b[1;32m   2392\u001b[0m         \u001b[0mFigures\u001b[0m \u001b[0mout\u001b[0m \u001b[0mthe\u001b[0m \u001b[0mdata\u001b[0m \u001b[0mlimit\u001b[0m \u001b[0mof\u001b[0m \u001b[0mthe\u001b[0m \u001b[0mgiven\u001b[0m \u001b[0mline\u001b[0m\u001b[0;34m,\u001b[0m \u001b[0mupdating\u001b[0m\u001b[0;31m \u001b[0m\u001b[0;31m`\u001b[0m\u001b[0;34m.\u001b[0m\u001b[0mAxes\u001b[0m\u001b[0;34m.\u001b[0m\u001b[0mdataLim\u001b[0m\u001b[0;31m`\u001b[0m\u001b[0;34m.\u001b[0m\u001b[0;34m\u001b[0m\u001b[0;34m\u001b[0m\u001b[0m\n\u001b[1;32m   2393\u001b[0m         \"\"\"\n\u001b[0;32m-> 2394\u001b[0;31m         \u001b[0mpath\u001b[0m \u001b[0;34m=\u001b[0m \u001b[0mline\u001b[0m\u001b[0;34m.\u001b[0m\u001b[0mget_path\u001b[0m\u001b[0;34m(\u001b[0m\u001b[0;34m)\u001b[0m\u001b[0;34m\u001b[0m\u001b[0;34m\u001b[0m\u001b[0m\n\u001b[0m\u001b[1;32m   2395\u001b[0m         \u001b[0;32mif\u001b[0m \u001b[0mpath\u001b[0m\u001b[0;34m.\u001b[0m\u001b[0mvertices\u001b[0m\u001b[0;34m.\u001b[0m\u001b[0msize\u001b[0m \u001b[0;34m==\u001b[0m \u001b[0;36m0\u001b[0m\u001b[0;34m:\u001b[0m\u001b[0;34m\u001b[0m\u001b[0;34m\u001b[0m\u001b[0m\n\u001b[1;32m   2396\u001b[0m             \u001b[0;32mreturn\u001b[0m\u001b[0;34m\u001b[0m\u001b[0;34m\u001b[0m\u001b[0m\n",
            "\u001b[0;32m/usr/local/lib/python3.11/dist-packages/matplotlib/lines.py\u001b[0m in \u001b[0;36mget_path\u001b[0;34m(self)\u001b[0m\n\u001b[1;32m   1036\u001b[0m         \u001b[0;34m\"\"\"Return the `~matplotlib.path.Path` associated with this line.\"\"\"\u001b[0m\u001b[0;34m\u001b[0m\u001b[0;34m\u001b[0m\u001b[0m\n\u001b[1;32m   1037\u001b[0m         \u001b[0;32mif\u001b[0m \u001b[0mself\u001b[0m\u001b[0;34m.\u001b[0m\u001b[0m_invalidy\u001b[0m \u001b[0;32mor\u001b[0m \u001b[0mself\u001b[0m\u001b[0;34m.\u001b[0m\u001b[0m_invalidx\u001b[0m\u001b[0;34m:\u001b[0m\u001b[0;34m\u001b[0m\u001b[0;34m\u001b[0m\u001b[0m\n\u001b[0;32m-> 1038\u001b[0;31m             \u001b[0mself\u001b[0m\u001b[0;34m.\u001b[0m\u001b[0mrecache\u001b[0m\u001b[0;34m(\u001b[0m\u001b[0;34m)\u001b[0m\u001b[0;34m\u001b[0m\u001b[0;34m\u001b[0m\u001b[0m\n\u001b[0m\u001b[1;32m   1039\u001b[0m         \u001b[0;32mreturn\u001b[0m \u001b[0mself\u001b[0m\u001b[0;34m.\u001b[0m\u001b[0m_path\u001b[0m\u001b[0;34m\u001b[0m\u001b[0;34m\u001b[0m\u001b[0m\n\u001b[1;32m   1040\u001b[0m \u001b[0;34m\u001b[0m\u001b[0m\n",
            "\u001b[0;32m/usr/local/lib/python3.11/dist-packages/matplotlib/lines.py\u001b[0m in \u001b[0;36mrecache\u001b[0;34m(self, always)\u001b[0m\n\u001b[1;32m    678\u001b[0m         \u001b[0;32mif\u001b[0m \u001b[0malways\u001b[0m \u001b[0;32mor\u001b[0m \u001b[0mself\u001b[0m\u001b[0;34m.\u001b[0m\u001b[0m_invalidy\u001b[0m\u001b[0;34m:\u001b[0m\u001b[0;34m\u001b[0m\u001b[0;34m\u001b[0m\u001b[0m\n\u001b[1;32m    679\u001b[0m             \u001b[0myconv\u001b[0m \u001b[0;34m=\u001b[0m \u001b[0mself\u001b[0m\u001b[0;34m.\u001b[0m\u001b[0mconvert_yunits\u001b[0m\u001b[0;34m(\u001b[0m\u001b[0mself\u001b[0m\u001b[0;34m.\u001b[0m\u001b[0m_yorig\u001b[0m\u001b[0;34m)\u001b[0m\u001b[0;34m\u001b[0m\u001b[0;34m\u001b[0m\u001b[0m\n\u001b[0;32m--> 680\u001b[0;31m             \u001b[0my\u001b[0m \u001b[0;34m=\u001b[0m \u001b[0m_to_unmasked_float_array\u001b[0m\u001b[0;34m(\u001b[0m\u001b[0myconv\u001b[0m\u001b[0;34m)\u001b[0m\u001b[0;34m.\u001b[0m\u001b[0mravel\u001b[0m\u001b[0;34m(\u001b[0m\u001b[0;34m)\u001b[0m\u001b[0;34m\u001b[0m\u001b[0;34m\u001b[0m\u001b[0m\n\u001b[0m\u001b[1;32m    681\u001b[0m         \u001b[0;32melse\u001b[0m\u001b[0;34m:\u001b[0m\u001b[0;34m\u001b[0m\u001b[0;34m\u001b[0m\u001b[0m\n\u001b[1;32m    682\u001b[0m             \u001b[0my\u001b[0m \u001b[0;34m=\u001b[0m \u001b[0mself\u001b[0m\u001b[0;34m.\u001b[0m\u001b[0m_y\u001b[0m\u001b[0;34m\u001b[0m\u001b[0;34m\u001b[0m\u001b[0m\n",
            "\u001b[0;32m/usr/local/lib/python3.11/dist-packages/matplotlib/cbook.py\u001b[0m in \u001b[0;36m_to_unmasked_float_array\u001b[0;34m(x)\u001b[0m\n\u001b[1;32m   1343\u001b[0m         \u001b[0;32mreturn\u001b[0m \u001b[0mnp\u001b[0m\u001b[0;34m.\u001b[0m\u001b[0mma\u001b[0m\u001b[0;34m.\u001b[0m\u001b[0masarray\u001b[0m\u001b[0;34m(\u001b[0m\u001b[0mx\u001b[0m\u001b[0;34m,\u001b[0m \u001b[0mfloat\u001b[0m\u001b[0;34m)\u001b[0m\u001b[0;34m.\u001b[0m\u001b[0mfilled\u001b[0m\u001b[0;34m(\u001b[0m\u001b[0mnp\u001b[0m\u001b[0;34m.\u001b[0m\u001b[0mnan\u001b[0m\u001b[0;34m)\u001b[0m\u001b[0;34m\u001b[0m\u001b[0;34m\u001b[0m\u001b[0m\n\u001b[1;32m   1344\u001b[0m     \u001b[0;32melse\u001b[0m\u001b[0;34m:\u001b[0m\u001b[0;34m\u001b[0m\u001b[0;34m\u001b[0m\u001b[0m\n\u001b[0;32m-> 1345\u001b[0;31m         \u001b[0;32mreturn\u001b[0m \u001b[0mnp\u001b[0m\u001b[0;34m.\u001b[0m\u001b[0masarray\u001b[0m\u001b[0;34m(\u001b[0m\u001b[0mx\u001b[0m\u001b[0;34m,\u001b[0m \u001b[0mfloat\u001b[0m\u001b[0;34m)\u001b[0m\u001b[0;34m\u001b[0m\u001b[0;34m\u001b[0m\u001b[0m\n\u001b[0m\u001b[1;32m   1346\u001b[0m \u001b[0;34m\u001b[0m\u001b[0m\n\u001b[1;32m   1347\u001b[0m \u001b[0;34m\u001b[0m\u001b[0m\n",
            "\u001b[0;31mTypeError\u001b[0m: float() argument must be a string or a real number, not 'property'"
          ]
        },
        {
          "output_type": "display_data",
          "data": {
            "text/plain": [
              "<Figure size 640x480 with 1 Axes>"
            ],
            "image/png": "[encoded data removed]"
          },
          "metadata": {}
        }
      ]
    }
  ]
}