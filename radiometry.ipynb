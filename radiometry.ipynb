{
  "nbformat": 4,
  "nbformat_minor": 0,
  "metadata": {
    "colab": {
      "provenance": [],
      "authorship_tag": "ABX9TyMrPo2eTyT6YO2WwMN2Qbck",
      "include_colab_link": true
    },
    "kernelspec": {
      "name": "python3",
      "display_name": "Python 3"
    },
    "language_info": {
      "name": "python"
    }
  },
  "cells": [
    {
      "cell_type": "markdown",
      "metadata": {
        "id": "view-in-github",
        "colab_type": "text"
      },
      "source": [
        "<a href=\"https://colab.research.google.com/github/ctate7163/radiometry/blob/main/radiometry.ipynb\" target=\"_parent\"><img src=\"https://colab.research.google.com/assets/colab-badge.svg\" alt=\"Open In Colab\"/></a>"
      ]
    },
    {
      "cell_type": "markdown",
      "source": [
        "## Radiometry for exposure time calculation\n",
        "\n",
        "This notebook estimates the camera design requirements\n",
        "\n",
        "All quantities are in SI units unless stated otherwise.\n",
        "\n",
        "Symbols used below.\n",
        "\n",
        "L: radiance [W/sr/m^@2]\n",
        "S: signal electrons [#e]\n",
        "λ: wavelength [meters]\n"
      ],
      "metadata": {
        "id": "lPygTqVq5qcX"
      }
    },
    {
      "cell_type": "code",
      "execution_count": null,
      "metadata": {
        "id": "fPF2PIRA5mFE"
      },
      "outputs": [],
      "source": [
        "import numpy as np\n",
        "import matplotlib.pyplot as plt"
      ]
    },
    {
      "cell_type": "code",
      "source": [],
      "metadata": {
        "id": "fzz9AYpL5om8"
      },
      "execution_count": null,
      "outputs": []
    }
  ]
}